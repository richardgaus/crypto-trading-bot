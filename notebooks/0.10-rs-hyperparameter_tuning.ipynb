{
 "cells": [
  {
   "cell_type": "code",
   "execution_count": 5,
   "metadata": {},
   "outputs": [
    {
     "name": "stdout",
     "output_type": "stream",
     "text": [
      "The autoreload extension is already loaded. To reload it, use:\n",
      "  %reload_ext autoreload\n"
     ]
    }
   ],
   "source": [
    "%load_ext autoreload\n",
    "%autoreload 2\n",
    "\n",
    "import pandas as pd\n",
    "import numpy as np\n",
    "\n",
    "from skopt.space import Dimension, Real\n",
    "from definitions import PROCESSED_DATA_DIR\n",
    "from src.data.indicators import rsi, stochRSI, ema\n",
    "from src.models.strategies import RSIStoch200EMA, BuyAndHold\n",
    "from src.data.data_pipeline import split_timeseries, evaluate_performance, optimize_hyperparameters"
   ]
  },
  {
   "cell_type": "code",
   "execution_count": 6,
   "metadata": {},
   "outputs": [],
   "source": [
    "btcusdt = pd.read_csv(PROCESSED_DATA_DIR / 'BTCUSDT.csv')\n",
    "btcusdt.index = pd.DatetimeIndex(btcusdt['open time'])"
   ]
  },
  {
   "cell_type": "code",
   "execution_count": null,
   "metadata": {},
   "outputs": [],
   "source": []
  },
  {
   "cell_type": "code",
   "execution_count": 9,
   "metadata": {},
   "outputs": [
    {
     "ename": "NameError",
     "evalue": "name 'tuned_hps' is not defined",
     "output_type": "error",
     "traceback": [
      "\u001b[1;31m---------------------------------------------------------------------------\u001b[0m",
      "\u001b[1;31mNameError\u001b[0m                                 Traceback (most recent call last)",
      "\u001b[1;32m<ipython-input-9-711c765a409e>\u001b[0m in \u001b[0;36m<module>\u001b[1;34m\u001b[0m\n\u001b[0;32m     24\u001b[0m \u001b[1;33m\u001b[0m\u001b[0m\n\u001b[0;32m     25\u001b[0m     \u001b[1;31m#Optimize Hyperparameters\u001b[0m\u001b[1;33m\u001b[0m\u001b[1;33m\u001b[0m\u001b[1;33m\u001b[0m\u001b[0m\n\u001b[1;32m---> 26\u001b[1;33m     \u001b[0mtuned_hps\u001b[0m\u001b[1;33m[\u001b[0m\u001b[0mi\u001b[0m\u001b[1;33m]\u001b[0m \u001b[1;33m=\u001b[0m \u001b[0moptimize_hyperparameters\u001b[0m\u001b[1;33m(\u001b[0m\u001b[0mtraining_set\u001b[0m\u001b[1;33m,\u001b[0m \u001b[0mhyperparameter_space\u001b[0m\u001b[1;33m,\u001b[0m \u001b[0mnum_calls\u001b[0m\u001b[1;33m)\u001b[0m\u001b[1;33m\u001b[0m\u001b[1;33m\u001b[0m\u001b[0m\n\u001b[0m\u001b[0;32m     27\u001b[0m \u001b[1;33m\u001b[0m\u001b[0m\n\u001b[0;32m     28\u001b[0m     \u001b[1;31m#Apply strategy with tuned hyperparameter on test set\u001b[0m\u001b[1;33m\u001b[0m\u001b[1;33m\u001b[0m\u001b[1;33m\u001b[0m\u001b[0m\n",
      "\u001b[1;31mNameError\u001b[0m: name 'tuned_hps' is not defined"
     ]
    }
   ],
   "source": [
    "#Evaluation parameters\n",
    "num_iteration = 500\n",
    "\n",
    "#Testset parameters\n",
    "testset_length = 1000 #30-min intervalls\n",
    "testset_start = None #random start\n",
    "random_seed = 1\n",
    "\n",
    "#Hyperparameters ...#ToDo\n",
    "hyperparameter_space = [\n",
    "    Real(10 ** -5, 1.25, \"log-uniform\", name='max_number_open_trades'),\n",
    "    Real(10 ** -6, 4096, \"log-uniform\", name='min_period_to_last_low'), \n",
    "    Real(10 ** -6, 4096, \"log-uniform\", name='max_period_to_last_low'), \n",
    "    Real(10 ** -6, 4096, \"log-uniform\", name='min_absolute_slope_rsi'), \n",
    "    Real(10 ** -6, 4096, \"log-uniform\", name='swing_low_margin'),  \n",
    "]\n",
    "num_calls = 30\n",
    "\n",
    "results = []\n",
    "\n",
    "for i in range(num_iteration):\n",
    "    \n",
    "    result_dict = {}\n",
    "\n",
    "    #Prepare dataset\n",
    "    [test_set, training_set] = split_timeseries(btcusdt, testset_length, testset_start, i)\n",
    "\n",
    "    #Optimize Hyperparameters\n",
    "    tuned_hps = optimize_hyperparameters(training_set, hyperparameter_space, num_calls) \n",
    "\n",
    "    #Apply strategy with tuned hyperparameter on test set\n",
    "    strategy = RSIStoch200EMA(  #ToDo\n",
    "        tuned_hps['max_number_open_trades'],\n",
    "        tuned_hps['min_period_to_last_low'],\n",
    "        tuned_hps['max_period_to_last_low'],\n",
    "        tuned_hps['min_absolute_slope_rsi'],\n",
    "        tuned_hps['swing_low_margin']\n",
    "    )\n",
    "    result_dict['tuned_hps'] = tuned_hps\n",
    "\n",
    "    \n",
    "    result_dict['strategy_result'] = strategy.apply(\n",
    "        ohlcv_timeseries=test_set,\n",
    "        asset_name='BTCUSDT'\n",
    "    )\n",
    "\n",
    "    #Evaluate test set performance\n",
    "    result_dict['test_set_performance'] = evaluate_performance(results[i].pnl_history)\n",
    "    \n",
    "    results.append(result_dict)\n",
    "\n",
    "    \n",
    "#Evaluate iterations\n",
    "#ToDo"
   ]
  },
  {
   "cell_type": "code",
   "execution_count": null,
   "metadata": {},
   "outputs": [],
   "source": []
  }
 ],
 "metadata": {
  "kernelspec": {
   "display_name": "Python 3",
   "language": "python",
   "name": "python3"
  },
  "language_info": {
   "codemirror_mode": {
    "name": "ipython",
    "version": 3
   },
   "file_extension": ".py",
   "mimetype": "text/x-python",
   "name": "python",
   "nbconvert_exporter": "python",
   "pygments_lexer": "ipython3",
   "version": "3.8.10"
  }
 },
 "nbformat": 4,
 "nbformat_minor": 1
}
