{
 "cells": [
  {
   "cell_type": "code",
   "execution_count": 17,
   "metadata": {},
   "outputs": [
    {
     "name": "stdout",
     "output_type": "stream",
     "text": [
      "The autoreload extension is already loaded. To reload it, use:\n",
      "  %reload_ext autoreload\n"
     ]
    }
   ],
   "source": [
    "%load_ext autoreload\n",
    "%autoreload 2\n",
    "\n",
    "import pandas as pd\n",
    "import numpy as np\n",
    "import matplotlib as mpl\n",
    "\n",
    "from skopt.space import Dimension, Real\n",
    "from definitions import PROCESSED_DATA_DIR\n",
    "from src.data.indicators import rsi, stochRSI, ema\n",
    "from src.models.strategies import RSIStoch200EMA, BuyAndHold\n",
    "from src.data.data_pipeline import split_timeseries, evaluate_performance, optimize_hyperparameters"
   ]
  },
  {
   "cell_type": "code",
   "execution_count": 2,
   "metadata": {},
   "outputs": [],
   "source": [
    "btcusdt = pd.read_csv(PROCESSED_DATA_DIR / 'BTCUSDT.csv')\n",
    "btcusdt.index = pd.DatetimeIndex(btcusdt['open time'])"
   ]
  },
  {
   "cell_type": "code",
   "execution_count": null,
   "metadata": {},
   "outputs": [],
   "source": []
  },
  {
   "cell_type": "code",
   "execution_count": 4,
   "metadata": {},
   "outputs": [
    {
     "ename": "TypeError",
     "evalue": "'NoneType' object is not subscriptable",
     "output_type": "error",
     "traceback": [
      "\u001B[1;31m---------------------------------------------------------------------------\u001B[0m",
      "\u001B[1;31mTypeError\u001B[0m                                 Traceback (most recent call last)",
      "\u001B[1;32m<ipython-input-4-74c5fd82347d>\u001B[0m in \u001B[0;36m<module>\u001B[1;34m\u001B[0m\n\u001B[0;32m     31\u001B[0m     \u001B[1;31m#Apply strategy with tuned hyperparameter on test set\u001B[0m\u001B[1;33m\u001B[0m\u001B[1;33m\u001B[0m\u001B[1;33m\u001B[0m\u001B[0m\n\u001B[0;32m     32\u001B[0m     strategy = RSIStoch200EMA(  #ToDo\n\u001B[1;32m---> 33\u001B[1;33m         \u001B[0mtuned_hps\u001B[0m\u001B[1;33m[\u001B[0m\u001B[1;34m'max_number_open_trades'\u001B[0m\u001B[1;33m]\u001B[0m\u001B[1;33m,\u001B[0m\u001B[1;33m\u001B[0m\u001B[1;33m\u001B[0m\u001B[0m\n\u001B[0m\u001B[0;32m     34\u001B[0m         \u001B[0mtuned_hps\u001B[0m\u001B[1;33m[\u001B[0m\u001B[1;34m'min_period_to_last_low'\u001B[0m\u001B[1;33m]\u001B[0m\u001B[1;33m,\u001B[0m\u001B[1;33m\u001B[0m\u001B[1;33m\u001B[0m\u001B[0m\n\u001B[0;32m     35\u001B[0m         \u001B[0mtuned_hps\u001B[0m\u001B[1;33m[\u001B[0m\u001B[1;34m'max_period_to_last_low'\u001B[0m\u001B[1;33m]\u001B[0m\u001B[1;33m,\u001B[0m\u001B[1;33m\u001B[0m\u001B[1;33m\u001B[0m\u001B[0m\n",
      "\u001B[1;31mTypeError\u001B[0m: 'NoneType' object is not subscriptable"
     ]
    }
   ],
   "source": [
    "#Evaluation parameters\n",
    "num_iteration = 500\n",
    "\n",
    "#Testset parameters\n",
    "testset_length = 1000 #30-min intervalls\n",
    "testset_start = None #random start\n",
    "random_seed = 1\n",
    "\n",
    "#Hyperparameters ...#ToDo\n",
    "hyperparameter_space = [\n",
    "    Real(10 ** -5, 1.25, \"log-uniform\", name='max_number_open_trades'),\n",
    "    Real(10 ** -6, 4096, \"log-uniform\", name='min_period_to_last_low'), \n",
    "    Real(10 ** -6, 4096, \"log-uniform\", name='max_period_to_last_low'), \n",
    "    Real(10 ** -6, 4096, \"log-uniform\", name='min_absolute_slope_rsi'), \n",
    "    Real(10 ** -6, 4096, \"log-uniform\", name='swing_low_margin'),  \n",
    "]\n",
    "num_calls = 30\n",
    "\n",
    "results = []\n",
    "\n",
    "for i in range(num_iteration):\n",
    "    \n",
    "    result_dict = {}\n",
    "\n",
    "    #Prepare dataset\n",
    "    [test_set, training_set] = split_timeseries(btcusdt, testset_length, testset_start, i)\n",
    "\n",
    "    #Optimize Hyperparameters\n",
    "    tuned_hps = optimize_hyperparameters(training_set, hyperparameter_space, num_calls) \n",
    "\n",
    "    #Apply strategy with tuned hyperparameter on test set\n",
    "    strategy = RSIStoch200EMA(  #ToDo\n",
    "        tuned_hps['max_number_open_trades'],\n",
    "        tuned_hps['min_period_to_last_low'],\n",
    "        tuned_hps['max_period_to_last_low'],\n",
    "        tuned_hps['min_absolute_slope_rsi'],\n",
    "        tuned_hps['swing_low_margin']\n",
    "    )\n",
    "    result_dict['tuned_hps'] = tuned_hps\n",
    "\n",
    "    \n",
    "    result_dict['strategy_result'] = strategy.apply(\n",
    "        ohlcv_timeseries=test_set,\n",
    "        asset_name='BTCUSDT'\n",
    "    )\n",
    "\n",
    "    #Evaluate test set performance\n",
    "    result_dict['test_set_performance'] = evaluate_performance(results[i].pnl_history)\n",
    "    \n",
    "    results.append(result_dict)\n",
    "\n",
    "    \n",
    "#Evaluate iterations\n",
    "#ToDo"
   ]
  },
  {
   "cell_type": "code",
   "execution_count": 31,
   "metadata": {},
   "outputs": [
    {
     "data": {
      "text/plain": [
       "Text(0, 0.5, 'Max Loss')"
      ]
     },
     "execution_count": 31,
     "metadata": {},
     "output_type": "execute_result"
    },
    {
     "data": {
      "image/png": "[encoded data removed]",
      "text/plain": [
       "<Figure size 432x288 with 1 Axes>"
      ]
     },
     "metadata": {},
     "output_type": "display_data"
    }
   ],
   "source": [
    "d1 = {'test_set_performance': {'final_pnl': 1, 'max_loss': 0.2, 'aggregate': 5}}\n",
    "d2 = {'test_set_performance': {'final_pnl': 2, 'max_loss': 0.5, 'aggregate': 4}}\n",
    "\n",
    "results = []\n",
    "results.append(d1)\n",
    "results.append(d2)\n",
    "\n",
    "results\n",
    "\n",
    "final_pnl = []\n",
    "max_loss = []\n",
    "aggregate = []\n",
    "for res_id in range(len(results)):\n",
    "    final_pnl.append(results[res_id]['test_set_performance']['final_pnl'])\n",
    "    max_loss.append(results[res_id]['test_set_performance']['max_loss'])\n",
    "    aggregate.append(results[res_id]['test_set_performance']['aggregate'])\n",
    "    \n",
    "x = np.linspace(0, max(final_pnl), 30)\n",
    "y = np.linspace(0, max(max_loss), 30)\n",
    "agg = np.linspace(min(aggregate), max(aggregate), 5)\n",
    "\n",
    "\n",
    "mpl.pyplot.style.use('seaborn-whitegrid')\n",
    "fig, ax = mpl.pyplot.subplots()\n",
    "ax.margins(x=0)\n",
    "ax.plot(final_pnl, max_loss, 'o', color='black')\n",
    "\n",
    "for i in range(len(agg)):\n",
    "    ax.plot(x, 1/agg[i]*x, '-', color='red')\n",
    "    ax.text(max(final_pnl)*0.9, 1/agg[i]*max(final_pnl)*0.9*0.95, 'sin')\n",
    "    \n",
    "mpl.pyplot.xlabel(\"Final PNL\")\n",
    "mpl.pyplot.ylabel(\"Max Loss\")"
   ]
  },
  {
   "cell_type": "code",
   "execution_count": 18,
   "metadata": {},
   "outputs": [
    {
     "data": {
      "text/plain": [
       "[{'test_set_performance': {'final_pnl': 1, 'max_loss': 0.2, 'aggregate': 5}},\n",
       " {'test_set_performance': {'final_pnl': 2, 'max_loss': 0.5, 'aggregate': 4}}]"
      ]
     },
     "execution_count": 18,
     "metadata": {},
     "output_type": "execute_result"
    }
   ],
   "source": [
    "d1 = {'test_set_performance': {'final_pnl': 1, 'max_loss': 0.2, 'aggregate': 5}}\n",
    "d2 = {'test_set_performance': {'final_pnl': 2, 'max_loss': 0.5, 'aggregate': 4}}\n",
    "\n",
    "results = []\n",
    "results.append(d1)\n",
    "results.append(d2)\n",
    "\n",
    "results"
   ]
  },
  {
   "cell_type": "code",
   "execution_count": 15,
   "metadata": {},
   "outputs": [],
   "source": [
    "for res_id in range(len(results)):\n",
    "    results[res_id]['test_set_performance']['final_pnl']"
   ]
  },
  {
   "cell_type": "code",
   "execution_count": null,
   "metadata": {},
   "outputs": [],
   "source": []
  }
 ],
 "metadata": {
  "kernelspec": {
   "display_name": "Python 3",
   "language": "python",
   "name": "python3"
  },
  "language_info": {
   "codemirror_mode": {
    "name": "ipython",
    "version": 3
   },
   "file_extension": ".py",
   "mimetype": "text/x-python",
   "name": "python",
   "nbconvert_exporter": "python",
   "pygments_lexer": "ipython3",
   "version": "3.8.8"
  }
 },
 "nbformat": 4,
 "nbformat_minor": 1
}