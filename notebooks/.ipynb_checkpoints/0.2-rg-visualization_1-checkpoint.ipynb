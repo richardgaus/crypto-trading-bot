{
 "cells": [
  {
   "cell_type": "code",
   "execution_count": null,
   "metadata": {},
   "outputs": [],
   "source": [
    "import pandas as pd\n",
    "import mplfinance as mpf\n",
    "import matplotlib.pyplot as plt\n",
    "\n",
    "from definitions import \n",
    "\n",
    "btcusdt = pd.read_csv('')"
   ]
  },
  {
   "cell_type": "code",
   "execution_count": null,
   "metadata": {
    "collapsed": true
   },
   "outputs": [],
   "source": [
    "fin_data = crypto_data_list[100]\n",
    "fin_data.index = fin_data['date']\n",
    "\n",
    "fig, axes = plt.subplots(\n",
    "    5, 1, \n",
    "    gridspec_kw={'height_ratios': [3, 1, 1, 1, 1], 'hspace': 0},\n",
    "    figsize=(12, 10),\n",
    "    sharex=True\n",
    ")\n",
    "mpf.plot(\n",
    "    data=fin_data[::-1],\n",
    "    ax=axes[0],\n",
    "    type='candle',\n",
    "    volume=axes[1],\n",
    "    style='yahoo',\n",
    "    tight_layout=True\n",
    ")\n",
    "axes[4].tick_params(labelrotation=45)"
   ]
  }
 ],
 "metadata": {
  "kernelspec": {
   "display_name": "Python 3",
   "language": "python",
   "name": "python3"
  },
  "language_info": {
   "codemirror_mode": {
    "name": "ipython",
    "version": 3
   },
   "file_extension": ".py",
   "mimetype": "text/x-python",
   "name": "python",
   "nbconvert_exporter": "python",
   "pygments_lexer": "ipython3",
   "version": "3.8.10"
  }
 },
 "nbformat": 4,
 "nbformat_minor": 1
}
