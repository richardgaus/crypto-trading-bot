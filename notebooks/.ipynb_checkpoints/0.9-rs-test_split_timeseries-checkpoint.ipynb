{
 "cells": [
  {
   "cell_type": "code",
   "execution_count": null,
   "metadata": {
    "collapsed": true
   },
   "outputs": [],
   "source": [
    "%load_ext autoreload\n",
    "%autoreload 2\n",
    "\n",
    "import pandas as pd\n",
    "import numpy as np\n",
    "\n",
    "from definitions import PROCESSED_DATA_DIR\n",
    "from src.data.indicators import rsi, stochRSI, ema\n",
    "from src.models.strategies import RSIStoch200EMA, BuyAndHold\n",
    "from src.data.data_pipeline import split_timeseries"
   ]
  },
  {
   "cell_type": "code",
   "execution_count": null,
   "metadata": {},
   "outputs": [],
   "source": [
    "btcusdt = pd.read_csv(PROCESSED_DATA_DIR / 'BTCUSDT.csv')\n",
    "btcusdt.index = pd.DatetimeIndex(btcusdt['open time'])"
   ]
  }
 ],
 "metadata": {
  "kernelspec": {
   "display_name": "Python 3",
   "language": "python",
   "name": "python3"
  },
  "language_info": {
   "codemirror_mode": {
    "name": "ipython",
    "version": 3
   },
   "file_extension": ".py",
   "mimetype": "text/x-python",
   "name": "python",
   "nbconvert_exporter": "python",
   "pygments_lexer": "ipython3",
   "version": "3.8.8"
  }
 },
 "nbformat": 4,
 "nbformat_minor": 1
}
