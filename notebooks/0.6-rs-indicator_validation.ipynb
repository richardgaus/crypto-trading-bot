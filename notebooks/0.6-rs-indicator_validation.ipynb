{
 "cells": [
  {
   "cell_type": "code",
   "execution_count": null,
   "metadata": {
    "pycharm": {
     "name": "#%%\n"
    }
   },
   "outputs": [],
   "source": []
  },
  {
   "cell_type": "code",
   "execution_count": 27,
   "metadata": {
    "pycharm": {
     "name": "#%%\n"
    }
   },
   "outputs": [
    {
     "name": "stdout",
     "output_type": "stream",
     "text": [
      "The autoreload extension is already loaded. To reload it, use:\n",
      "  %reload_ext autoreload\n"
     ]
    },
    {
     "data": {
      "text/html": [
       "<div>\n",
       "<style scoped>\n",
       "    .dataframe tbody tr th:only-of-type {\n",
       "        vertical-align: middle;\n",
       "    }\n",
       "\n",
       "    .dataframe tbody tr th {\n",
       "        vertical-align: top;\n",
       "    }\n",
       "\n",
       "    .dataframe thead th {\n",
       "        text-align: right;\n",
       "    }\n",
       "</style>\n",
       "<table border=\"1\" class=\"dataframe\">\n",
       "  <thead>\n",
       "    <tr style=\"text-align: right;\">\n",
       "      <th></th>\n",
       "      <th>open time</th>\n",
       "      <th>open</th>\n",
       "      <th>high</th>\n",
       "      <th>low</th>\n",
       "      <th>close</th>\n",
       "      <th>volume</th>\n",
       "    </tr>\n",
       "    <tr>\n",
       "      <th>open time</th>\n",
       "      <th></th>\n",
       "      <th></th>\n",
       "      <th></th>\n",
       "      <th></th>\n",
       "      <th></th>\n",
       "      <th></th>\n",
       "    </tr>\n",
       "  </thead>\n",
       "  <tbody>\n",
       "    <tr>\n",
       "      <th>2017-08-17 20:30:00</th>\n",
       "      <td>2017-08-17 20:30:00</td>\n",
       "      <td>4301.91</td>\n",
       "      <td>4354.84</td>\n",
       "      <td>4262.53</td>\n",
       "      <td>4346.74</td>\n",
       "      <td>15.184266</td>\n",
       "    </tr>\n",
       "    <tr>\n",
       "      <th>2017-08-17 21:00:00</th>\n",
       "      <td>2017-08-17 21:00:00</td>\n",
       "      <td>4346.74</td>\n",
       "      <td>4369.69</td>\n",
       "      <td>4315.85</td>\n",
       "      <td>4349.33</td>\n",
       "      <td>29.292665</td>\n",
       "    </tr>\n",
       "    <tr>\n",
       "      <th>2017-08-17 21:30:00</th>\n",
       "      <td>2017-08-17 21:30:00</td>\n",
       "      <td>4349.33</td>\n",
       "      <td>4369.69</td>\n",
       "      <td>4309.23</td>\n",
       "      <td>4333.55</td>\n",
       "      <td>32.480371</td>\n",
       "    </tr>\n",
       "    <tr>\n",
       "      <th>2017-08-17 22:00:00</th>\n",
       "      <td>2017-08-17 22:00:00</td>\n",
       "      <td>4333.55</td>\n",
       "      <td>4349.63</td>\n",
       "      <td>4310.00</td>\n",
       "      <td>4326.29</td>\n",
       "      <td>26.241174</td>\n",
       "    </tr>\n",
       "    <tr>\n",
       "      <th>2017-08-17 22:30:00</th>\n",
       "      <td>2017-08-17 22:30:00</td>\n",
       "      <td>4326.29</td>\n",
       "      <td>4359.13</td>\n",
       "      <td>4319.11</td>\n",
       "      <td>4336.80</td>\n",
       "      <td>31.134968</td>\n",
       "    </tr>\n",
       "  </tbody>\n",
       "</table>\n",
       "</div>"
      ],
      "text/plain": [
       "                               open time     open     high      low    close  \\\n",
       "open time                                                                      \n",
       "2017-08-17 20:30:00  2017-08-17 20:30:00  4301.91  4354.84  4262.53  4346.74   \n",
       "2017-08-17 21:00:00  2017-08-17 21:00:00  4346.74  4369.69  4315.85  4349.33   \n",
       "2017-08-17 21:30:00  2017-08-17 21:30:00  4349.33  4369.69  4309.23  4333.55   \n",
       "2017-08-17 22:00:00  2017-08-17 22:00:00  4333.55  4349.63  4310.00  4326.29   \n",
       "2017-08-17 22:30:00  2017-08-17 22:30:00  4326.29  4359.13  4319.11  4336.80   \n",
       "\n",
       "                        volume  \n",
       "open time                       \n",
       "2017-08-17 20:30:00  15.184266  \n",
       "2017-08-17 21:00:00  29.292665  \n",
       "2017-08-17 21:30:00  32.480371  \n",
       "2017-08-17 22:00:00  26.241174  \n",
       "2017-08-17 22:30:00  31.134968  "
      ]
     },
     "execution_count": 27,
     "metadata": {},
     "output_type": "execute_result"
    }
   ],
   "source": [
    "%load_ext autoreload\n",
    "%autoreload 2\n",
    "\n",
    "import numpy as np\n",
    "import pandas as pd\n",
    "import mplfinance as mpf\n",
    "import matplotlib as mpl\n",
    "import seaborn as sns\n",
    "\n",
    "from definitions import RAW_DATA_DIR\n",
    "from indicators import ema, rsi, stoch, stoch_k, stoch_d\n",
    "\n",
    "btcusdt = pd.read_csv(RAW_DATA_DIR / 'BTCUSDT.csv')\n",
    "btcusdt.index = pd.DatetimeIndex(btcusdt['open time'])\n",
    "btcusdt.head()"
   ]
  },
  {
   "cell_type": "code",
   "execution_count": 25,
   "metadata": {
    "pycharm": {
     "name": "#%%\n"
    }
   },
   "outputs": [],
   "source": [
    "ema_list = []\n",
    "ema_prev = ema(btcusdt, 200)\n",
    "for index, row in btcusdt.iterrows():\n",
    "    ema_cur = ema(btcusdt[:index], 200, ema_prev, 'low')\n",
    "    ema_prev = ema_cur\n",
    "    ema_list.append(ema_cur)\n",
    "\n",
    "btcusdt['ema'] = ema_list"
   ]
  },
  {
   "cell_type": "code",
   "execution_count": 28,
   "metadata": {},
   "outputs": [],
   "source": [
    "rsi_list = []\n",
    "for index, row in btcusdt.iterrows():\n",
    "    rsi_cur = rsi(btcusdt[:index], 14, 'low')\n",
    "    rsi_list.append(rsi_cur)\n",
    "\n",
    "btcusdt['rsi'] = rsi_list"
   ]
  },
  {
   "cell_type": "code",
   "execution_count": 6,
   "metadata": {},
   "outputs": [],
   "source": [
    "stochrsi_list = []\n",
    "for index, row in btcusdt.iterrows():\n",
    "    stochrsi_cur = stoch(btcusdt[:index], 14)\n",
    "    stochrsi_list.append(stochrsi_cur)\n",
    "btcusdt['stoch'] = stochrsi_list"
   ]
  },
  {
   "cell_type": "code",
   "execution_count": 7,
   "metadata": {},
   "outputs": [],
   "source": [
    "stochrsi_K_list = []\n",
    "for index, row in btcusdt.iterrows():\n",
    "    stochrsi_K_cur = stoch_k(btcusdt[:index], 3)\n",
    "    stochrsi_K_list.append(stochrsi_K_cur)\n",
    "btcusdt['stoch_k'] = stochrsi_K_list"
   ]
  },
  {
   "cell_type": "code",
   "execution_count": 9,
   "metadata": {
    "pycharm": {
     "name": "#%%\n"
    }
   },
   "outputs": [],
   "source": [
    "stochrsi_D_list = []\n",
    "for index, row in btcusdt.iterrows():\n",
    "    stochrsi_D_cur = stoch_d(btcusdt[:index], 3)\n",
    "    stochrsi_D_list.append(stochrsi_D_cur)\n",
    "btcusdt['stoch_d'] = stochrsi_D_list"
   ]
  },
  {
   "cell_type": "code",
   "execution_count": 13,
   "metadata": {},
   "outputs": [],
   "source": [
    "#overwrite\n",
    "btcusdt['stoch_k'] = ema_list\n",
    "btcusdt['stoch_d'] = ema_list"
   ]
  },
  {
   "cell_type": "code",
   "execution_count": 29,
   "metadata": {
    "pycharm": {
     "name": "#%%\n"
    }
   },
   "outputs": [],
   "source": [
    "from src.models.strategies import RSIStoch200EMAResults\n",
    "\n",
    "\n",
    "\n",
    "results = RSIStoch200EMAResults(\n",
    "    asset_name='BTCUSDT',\n",
    "    ohlcv_timeseries=btcusdt\n",
    ")"
   ]
  },
  {
   "cell_type": "code",
   "execution_count": 30,
   "metadata": {
    "pycharm": {
     "name": "#%%\n"
    }
   },
   "outputs": [],
   "source": [
    "start_time=btcusdt.index[-150]\n",
    "end_time=btcusdt.index[-1]"
   ]
  },
  {
   "cell_type": "code",
   "execution_count": 31,
   "metadata": {
    "pycharm": {
     "name": "#%%\n"
    }
   },
   "outputs": [
    {
     "ename": "KeyError",
     "evalue": "'ema'",
     "output_type": "error",
     "traceback": [
      "\u001b[1;31m---------------------------------------------------------------------------\u001b[0m",
      "\u001b[1;31mKeyError\u001b[0m                                  Traceback (most recent call last)",
      "\u001b[1;32mc:\\users\\robert\\desktop\\technischeanalysebot\\newpull\\venv\\lib\\site-packages\\pandas\\core\\indexes\\base.py\u001b[0m in \u001b[0;36mget_loc\u001b[1;34m(self, key, method, tolerance)\u001b[0m\n\u001b[0;32m   3079\u001b[0m             \u001b[1;32mtry\u001b[0m\u001b[1;33m:\u001b[0m\u001b[1;33m\u001b[0m\u001b[1;33m\u001b[0m\u001b[0m\n\u001b[1;32m-> 3080\u001b[1;33m                 \u001b[1;32mreturn\u001b[0m \u001b[0mself\u001b[0m\u001b[1;33m.\u001b[0m\u001b[0m_engine\u001b[0m\u001b[1;33m.\u001b[0m\u001b[0mget_loc\u001b[0m\u001b[1;33m(\u001b[0m\u001b[0mcasted_key\u001b[0m\u001b[1;33m)\u001b[0m\u001b[1;33m\u001b[0m\u001b[1;33m\u001b[0m\u001b[0m\n\u001b[0m\u001b[0;32m   3081\u001b[0m             \u001b[1;32mexcept\u001b[0m \u001b[0mKeyError\u001b[0m \u001b[1;32mas\u001b[0m \u001b[0merr\u001b[0m\u001b[1;33m:\u001b[0m\u001b[1;33m\u001b[0m\u001b[1;33m\u001b[0m\u001b[0m\n",
      "\u001b[1;32mpandas\\_libs\\index.pyx\u001b[0m in \u001b[0;36mpandas._libs.index.IndexEngine.get_loc\u001b[1;34m()\u001b[0m\n",
      "\u001b[1;32mpandas\\_libs\\index.pyx\u001b[0m in \u001b[0;36mpandas._libs.index.IndexEngine.get_loc\u001b[1;34m()\u001b[0m\n",
      "\u001b[1;32mpandas\\_libs\\hashtable_class_helper.pxi\u001b[0m in \u001b[0;36mpandas._libs.hashtable.PyObjectHashTable.get_item\u001b[1;34m()\u001b[0m\n",
      "\u001b[1;32mpandas\\_libs\\hashtable_class_helper.pxi\u001b[0m in \u001b[0;36mpandas._libs.hashtable.PyObjectHashTable.get_item\u001b[1;34m()\u001b[0m\n",
      "\u001b[1;31mKeyError\u001b[0m: 'ema'",
      "\nThe above exception was the direct cause of the following exception:\n",
      "\u001b[1;31mKeyError\u001b[0m                                  Traceback (most recent call last)",
      "\u001b[1;32m<ipython-input-31-f32b692b1c2b>\u001b[0m in \u001b[0;36m<module>\u001b[1;34m\u001b[0m\n\u001b[1;32m----> 1\u001b[1;33m \u001b[0mresults\u001b[0m\u001b[1;33m.\u001b[0m\u001b[0mplot\u001b[0m\u001b[1;33m(\u001b[0m\u001b[0mstart_time\u001b[0m\u001b[1;33m,\u001b[0m \u001b[0mend_time\u001b[0m\u001b[1;33m)\u001b[0m\u001b[1;33m\u001b[0m\u001b[1;33m\u001b[0m\u001b[0m\n\u001b[0m",
      "\u001b[1;32m~\\Desktop\\TechnischeAnalyseBot\\newPull\\crypto-trading-bot\\src\\models\\strategies.py\u001b[0m in \u001b[0;36mplot\u001b[1;34m(self, start_time, end_time)\u001b[0m\n\u001b[0;32m     87\u001b[0m         \u001b[0maxes\u001b[0m\u001b[1;33m[\u001b[0m\u001b[1;36m1\u001b[0m\u001b[1;33m]\u001b[0m\u001b[1;33m.\u001b[0m\u001b[0mgrid\u001b[0m\u001b[1;33m(\u001b[0m\u001b[0maxis\u001b[0m\u001b[1;33m=\u001b[0m\u001b[1;34m'y'\u001b[0m\u001b[1;33m,\u001b[0m \u001b[0mls\u001b[0m\u001b[1;33m=\u001b[0m\u001b[1;34m'--'\u001b[0m\u001b[1;33m)\u001b[0m\u001b[1;33m\u001b[0m\u001b[1;33m\u001b[0m\u001b[0m\n\u001b[0;32m     88\u001b[0m         \u001b[1;31m# EMA\u001b[0m\u001b[1;33m\u001b[0m\u001b[1;33m\u001b[0m\u001b[1;33m\u001b[0m\u001b[0m\n\u001b[1;32m---> 89\u001b[1;33m         \u001b[0maxes\u001b[0m\u001b[1;33m[\u001b[0m\u001b[1;36m0\u001b[0m\u001b[1;33m]\u001b[0m\u001b[1;33m.\u001b[0m\u001b[0mplot\u001b[0m\u001b[1;33m(\u001b[0m\u001b[0mdata\u001b[0m\u001b[1;33m.\u001b[0m\u001b[0mindex\u001b[0m\u001b[1;33m,\u001b[0m \u001b[0mdata\u001b[0m\u001b[1;33m[\u001b[0m\u001b[1;34m'ema'\u001b[0m\u001b[1;33m]\u001b[0m\u001b[1;33m,\u001b[0m \u001b[0mcolor\u001b[0m\u001b[1;33m=\u001b[0m\u001b[1;34m'dodgerblue'\u001b[0m\u001b[1;33m,\u001b[0m \u001b[0mzorder\u001b[0m\u001b[1;33m=\u001b[0m\u001b[1;33m-\u001b[0m\u001b[1;36m10\u001b[0m\u001b[1;33m)\u001b[0m\u001b[1;33m\u001b[0m\u001b[1;33m\u001b[0m\u001b[0m\n\u001b[0m\u001b[0;32m     90\u001b[0m         \u001b[1;31m# RSI\u001b[0m\u001b[1;33m\u001b[0m\u001b[1;33m\u001b[0m\u001b[1;33m\u001b[0m\u001b[0m\n\u001b[0;32m     91\u001b[0m         \u001b[0maxes\u001b[0m\u001b[1;33m[\u001b[0m\u001b[1;36m2\u001b[0m\u001b[1;33m]\u001b[0m\u001b[1;33m.\u001b[0m\u001b[0mplot\u001b[0m\u001b[1;33m(\u001b[0m\u001b[0mdata\u001b[0m\u001b[1;33m.\u001b[0m\u001b[0mindex\u001b[0m\u001b[1;33m,\u001b[0m \u001b[0mdata\u001b[0m\u001b[1;33m[\u001b[0m\u001b[1;34m'rsi'\u001b[0m\u001b[1;33m]\u001b[0m\u001b[1;33m)\u001b[0m\u001b[1;33m\u001b[0m\u001b[1;33m\u001b[0m\u001b[0m\n",
      "\u001b[1;32mc:\\users\\robert\\desktop\\technischeanalysebot\\newpull\\venv\\lib\\site-packages\\pandas\\core\\frame.py\u001b[0m in \u001b[0;36m__getitem__\u001b[1;34m(self, key)\u001b[0m\n\u001b[0;32m   3022\u001b[0m             \u001b[1;32mif\u001b[0m \u001b[0mself\u001b[0m\u001b[1;33m.\u001b[0m\u001b[0mcolumns\u001b[0m\u001b[1;33m.\u001b[0m\u001b[0mnlevels\u001b[0m \u001b[1;33m>\u001b[0m \u001b[1;36m1\u001b[0m\u001b[1;33m:\u001b[0m\u001b[1;33m\u001b[0m\u001b[1;33m\u001b[0m\u001b[0m\n\u001b[0;32m   3023\u001b[0m                 \u001b[1;32mreturn\u001b[0m \u001b[0mself\u001b[0m\u001b[1;33m.\u001b[0m\u001b[0m_getitem_multilevel\u001b[0m\u001b[1;33m(\u001b[0m\u001b[0mkey\u001b[0m\u001b[1;33m)\u001b[0m\u001b[1;33m\u001b[0m\u001b[1;33m\u001b[0m\u001b[0m\n\u001b[1;32m-> 3024\u001b[1;33m             \u001b[0mindexer\u001b[0m \u001b[1;33m=\u001b[0m \u001b[0mself\u001b[0m\u001b[1;33m.\u001b[0m\u001b[0mcolumns\u001b[0m\u001b[1;33m.\u001b[0m\u001b[0mget_loc\u001b[0m\u001b[1;33m(\u001b[0m\u001b[0mkey\u001b[0m\u001b[1;33m)\u001b[0m\u001b[1;33m\u001b[0m\u001b[1;33m\u001b[0m\u001b[0m\n\u001b[0m\u001b[0;32m   3025\u001b[0m             \u001b[1;32mif\u001b[0m \u001b[0mis_integer\u001b[0m\u001b[1;33m(\u001b[0m\u001b[0mindexer\u001b[0m\u001b[1;33m)\u001b[0m\u001b[1;33m:\u001b[0m\u001b[1;33m\u001b[0m\u001b[1;33m\u001b[0m\u001b[0m\n\u001b[0;32m   3026\u001b[0m                 \u001b[0mindexer\u001b[0m \u001b[1;33m=\u001b[0m \u001b[1;33m[\u001b[0m\u001b[0mindexer\u001b[0m\u001b[1;33m]\u001b[0m\u001b[1;33m\u001b[0m\u001b[1;33m\u001b[0m\u001b[0m\n",
      "\u001b[1;32mc:\\users\\robert\\desktop\\technischeanalysebot\\newpull\\venv\\lib\\site-packages\\pandas\\core\\indexes\\base.py\u001b[0m in \u001b[0;36mget_loc\u001b[1;34m(self, key, method, tolerance)\u001b[0m\n\u001b[0;32m   3080\u001b[0m                 \u001b[1;32mreturn\u001b[0m \u001b[0mself\u001b[0m\u001b[1;33m.\u001b[0m\u001b[0m_engine\u001b[0m\u001b[1;33m.\u001b[0m\u001b[0mget_loc\u001b[0m\u001b[1;33m(\u001b[0m\u001b[0mcasted_key\u001b[0m\u001b[1;33m)\u001b[0m\u001b[1;33m\u001b[0m\u001b[1;33m\u001b[0m\u001b[0m\n\u001b[0;32m   3081\u001b[0m             \u001b[1;32mexcept\u001b[0m \u001b[0mKeyError\u001b[0m \u001b[1;32mas\u001b[0m \u001b[0merr\u001b[0m\u001b[1;33m:\u001b[0m\u001b[1;33m\u001b[0m\u001b[1;33m\u001b[0m\u001b[0m\n\u001b[1;32m-> 3082\u001b[1;33m                 \u001b[1;32mraise\u001b[0m \u001b[0mKeyError\u001b[0m\u001b[1;33m(\u001b[0m\u001b[0mkey\u001b[0m\u001b[1;33m)\u001b[0m \u001b[1;32mfrom\u001b[0m \u001b[0merr\u001b[0m\u001b[1;33m\u001b[0m\u001b[1;33m\u001b[0m\u001b[0m\n\u001b[0m\u001b[0;32m   3083\u001b[0m \u001b[1;33m\u001b[0m\u001b[0m\n\u001b[0;32m   3084\u001b[0m         \u001b[1;32mif\u001b[0m \u001b[0mtolerance\u001b[0m \u001b[1;32mis\u001b[0m \u001b[1;32mnot\u001b[0m \u001b[1;32mNone\u001b[0m\u001b[1;33m:\u001b[0m\u001b[1;33m\u001b[0m\u001b[1;33m\u001b[0m\u001b[0m\n",
      "\u001b[1;31mKeyError\u001b[0m: 'ema'"
     ]
    },
    {
     "data": {
      "image/png": "[encoded data removed]",
      "text/plain": [
       "<Figure size 1080x864 with 4 Axes>"
      ]
     },
     "metadata": {
      "needs_background": "light"
     },
     "output_type": "display_data"
    }
   ],
   "source": [
    "results.plot(start_time, end_time)"
   ]
  },
  {
   "cell_type": "code",
   "execution_count": null,
   "metadata": {
    "pycharm": {
     "name": "#%%\n"
    }
   },
   "outputs": [],
   "source": [
    "entry_time = btcusdt.index[60]\n",
    "entry_price = btcusdt.loc[entry_time]['close']\n",
    "take_profit = entry_price + 100\n",
    "stop_loss = entry_price - 50\n",
    "exit_time = btcusdt.index[80]\n",
    "win = False\n",
    "divergence_timeframe = (btcusdt.index[40], btcusdt.index[55])"
   ]
  },
  {
   "cell_type": "code",
   "execution_count": null,
   "metadata": {
    "pycharm": {
     "name": "#%%\n"
    }
   },
   "outputs": [],
   "source": [
    "entry_time = btcusdt.index[60]\n",
    "entry_price = btcusdt.loc[entry_time]['close']\n",
    "take_profit = entry_price + 100\n",
    "stop_loss = entry_price - 50\n",
    "exit_time = btcusdt.index[80]\n",
    "win = False\n",
    "divergence_timeframe = (btcusdt.index[40], btcusdt.index[55])\n",
    "results.add_trade_and_signal(\n",
    "    entry_time=entry_time,\n",
    "    entry_price=entry_price,\n",
    "    take_profit=take_profit,\n",
    "    stop_loss=stop_loss,\n",
    "    exit_time=exit_time,\n",
    "    win=win,\n",
    "    divergence_timeframe=divergence_timeframe\n",
    ")\n",
    "\n",
    "entry_time = btcusdt.index[30]\n",
    "entry_price = btcusdt.loc[entry_time]['close']\n",
    "take_profit = entry_price + 100\n",
    "stop_loss = entry_price - 50\n",
    "exit_time = btcusdt.index[40]\n",
    "win = False\n",
    "divergence_timeframe = (btcusdt.index[10], btcusdt.index[20])\n",
    "results.add_trade_and_signal(\n",
    "    entry_time=entry_time,\n",
    "    entry_price=entry_price,\n",
    "    take_profit=take_profit,\n",
    "    stop_loss=stop_loss,\n",
    "    exit_time=exit_time,\n",
    "    win=win,\n",
    "    divergence_timeframe=divergence_timeframe\n",
    ")"
   ]
  },
  {
   "cell_type": "code",
   "execution_count": null,
   "metadata": {
    "pycharm": {
     "name": "#%%\n"
    }
   },
   "outputs": [],
   "source": [
    "results.plot(start_time, end_time)"
   ]
  },
  {
   "cell_type": "code",
   "execution_count": 23,
   "metadata": {},
   "outputs": [
    {
     "name": "stdout",
     "output_type": "stream",
     "text": [
      "15\n",
      "14\n",
      "13\n",
      "12\n",
      "11\n",
      "10\n",
      "9\n",
      "8\n",
      "7\n",
      "6\n",
      "5\n",
      "4\n",
      "3\n",
      "2\n"
     ]
    }
   ],
   "source": [
    " for idn in range(15, 1, -1):\n",
    "        print(idn)"
   ]
  },
  {
   "cell_type": "code",
   "execution_count": null,
   "metadata": {},
   "outputs": [],
   "source": []
  }
 ],
 "metadata": {
  "kernelspec": {
   "display_name": "Python 3",
   "language": "python",
   "name": "python3"
  },
  "language_info": {
   "codemirror_mode": {
    "name": "ipython",
    "version": 3
   },
   "file_extension": ".py",
   "mimetype": "text/x-python",
   "name": "python",
   "nbconvert_exporter": "python",
   "pygments_lexer": "ipython3",
   "version": "3.8.10"
  }
 },
 "nbformat": 4,
 "nbformat_minor": 1
}
